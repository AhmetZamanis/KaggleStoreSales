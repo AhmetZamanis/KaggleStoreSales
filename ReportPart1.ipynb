{
  "cells": [
    {
      "cell_type": "markdown",
      "metadata": {},
      "source": [
        "# Time series regression - Store sales forecasting, Part 1\n",
        "\n",
        "Ahmet Zamanis\n",
        "\n",
        "## Introduction\n",
        "\n",
        "Introduce TS regression, dataset and competition, part 1\n",
        "\n",
        "## Data preparation\n",
        "\n",
        "When you click the **Render** button a document will be generated that\n",
        "includes both content and the output of embedded code. You can embed\n",
        "code like this:"
      ],
      "id": "1ceb728d-31cd-4658-9ac8-51a2aa77c103"
    },
    {
      "cell_type": "code",
      "execution_count": 1,
      "metadata": {},
      "outputs": [
        {
          "output_type": "display_data",
          "metadata": {},
          "data": {
            "text/plain": [
              "2"
            ]
          }
        }
      ],
      "source": [
        "1 + 1"
      ],
      "id": "3eb826c8-2a6f-4307-8d54-e8ced4a0e36d"
    },
    {
      "cell_type": "markdown",
      "metadata": {},
      "source": [
        "You can add options to executable code like this"
      ],
      "id": "ab3177c0-d98e-43e2-ac40-805a9882de7a"
    },
    {
      "cell_type": "code",
      "execution_count": 2,
      "metadata": {},
      "outputs": [
        {
          "output_type": "display_data",
          "metadata": {},
          "data": {
            "text/plain": [
              "4"
            ]
          }
        }
      ],
      "source": [],
      "id": "dd9d3aa8-7c65-4da8-9dde-68668cf89ea3"
    },
    {
      "cell_type": "markdown",
      "metadata": {},
      "source": [
        "The `echo: false` option disables the printing of code (only output is\n",
        "displayed).\n",
        "\n",
        "## Exploratory analysis - Time & calendar effects\n",
        "\n",
        "## Feature engineering - Time & calendar features\n",
        "\n",
        "## Model 1 - Time effects decomposition\n",
        "\n",
        "## Exploratory analysis - Lags & covariates\n",
        "\n",
        "## Feature engineering - Lags & covariates\n",
        "\n",
        "## Model 2 - Hybrid model\n",
        "\n",
        "## Conclusion"
      ],
      "id": "a3c6e031-340b-4308-aeea-276d72c00554"
    }
  ],
  "nbformat": 4,
  "nbformat_minor": 5,
  "metadata": {
    "kernelspec": {
      "name": "python3",
      "display_name": "Python 3 (ipykernel)",
      "language": "python"
    },
    "language_info": {
      "name": "python",
      "codemirror_mode": {
        "name": "ipython",
        "version": "3"
      },
      "file_extension": ".py",
      "mimetype": "text/x-python",
      "nbconvert_exporter": "python",
      "pygments_lexer": "ipython3",
      "version": "3.10.8"
    }
  }
}